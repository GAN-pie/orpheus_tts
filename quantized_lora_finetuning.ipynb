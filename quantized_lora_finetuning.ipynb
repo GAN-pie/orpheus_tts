{
 "cells": [
  {
   "cell_type": "code",
   "execution_count": 1,
   "id": "7ed546a2-8b89-4d76-976a-782d3aeb4013",
   "metadata": {},
   "outputs": [],
   "source": [
    "import transformers"
   ]
  },
  {
   "cell_type": "code",
   "execution_count": 2,
   "id": "46e7aab4-4854-4d79-a51f-030369b1236e",
   "metadata": {},
   "outputs": [],
   "source": [
    "from transformers import AutoModelForCausalLM, AutoTokenizer, Trainer, TrainingArguments"
   ]
  },
  {
   "cell_type": "code",
   "execution_count": 3,
   "id": "d2ab5973-7e04-4280-b9ed-d2d8e7a87b7d",
   "metadata": {},
   "outputs": [],
   "source": [
    "from peft import LoraConfig, get_peft_model, prepare_model_for_kbit_training"
   ]
  },
  {
   "cell_type": "code",
   "execution_count": 4,
   "id": "7b29f13d-6489-49a6-b6df-f06557f98faf",
   "metadata": {},
   "outputs": [],
   "source": [
    "from peft.optimizers import create_loraplus_optimizer"
   ]
  },
  {
   "cell_type": "code",
   "execution_count": 5,
   "id": "08df92f8-32f0-4d61-9959-b90fdb7ec5d3",
   "metadata": {},
   "outputs": [],
   "source": [
    "import bitsandbytes as bnb"
   ]
  },
  {
   "cell_type": "code",
   "execution_count": 6,
   "id": "a23ed74f-621b-4775-bf6c-6cbf5d6cd811",
   "metadata": {},
   "outputs": [],
   "source": [
    "import datasets"
   ]
  },
  {
   "cell_type": "code",
   "execution_count": 7,
   "id": "3ea4d3e3-81d9-4bf4-90b8-530548e549af",
   "metadata": {},
   "outputs": [],
   "source": [
    "from datasets import load_from_disk"
   ]
  },
  {
   "cell_type": "code",
   "execution_count": 8,
   "id": "7517de68-5aa0-497d-a972-fc2853b05f7b",
   "metadata": {},
   "outputs": [],
   "source": [
    "import torch"
   ]
  },
  {
   "cell_type": "code",
   "execution_count": 9,
   "id": "5c48321e-648c-4c75-a97d-2d501b8c96dd",
   "metadata": {},
   "outputs": [],
   "source": [
    "config = LoraConfig(\n",
    "    task_type=\"CAUSAL_LM\",\n",
    "    r=32,\n",
    "    lora_alpha=64,\n",
    "    target_modules=[\"q_proj\", \"k_proj\", \"v_proj\", \"o_proj\"],\n",
    "    lora_dropout=0.1,\n",
    "    bias=\"none\"\n",
    ")"
   ]
  },
  {
   "cell_type": "code",
   "execution_count": 10,
   "id": "62515cde-78ec-4072-9e97-7fead3402e7e",
   "metadata": {},
   "outputs": [],
   "source": [
    "quantization_config = transformers.BitsAndBytesConfig(\n",
    "    #llm_int8_enable_fp32_cpu_offload=True,\n",
    "    #load_in_8bit=True,\n",
    "    load_in_4bit=True,\n",
    "    bnb_4bit_quant_type=\"nf4\",\n",
    "    bnb_4bit_use_double_quant=True,\n",
    "    bnb_4bit_compute_dtype=torch.bfloat16,\n",
    "    #llm_int8_threshold=0.0,\n",
    ")"
   ]
  },
  {
   "cell_type": "code",
   "execution_count": 11,
   "id": "325780ee-7fe3-49dd-8813-f48746551e69",
   "metadata": {},
   "outputs": [
    {
     "data": {
      "application/vnd.jupyter.widget-view+json": {
       "model_id": "b16d99e557514c239917dc55d5010c1f",
       "version_major": 2,
       "version_minor": 0
      },
      "text/plain": [
       "Loading checkpoint shards:   0%|          | 0/4 [00:00<?, ?it/s]"
      ]
     },
     "metadata": {},
     "output_type": "display_data"
    }
   ],
   "source": [
    "model = AutoModelForCausalLM.from_pretrained(\n",
    "    \"canopylabs/3b-fr-pretrain-research_release\",\n",
    "    use_cache=False,\n",
    "    quantization_config=quantization_config\n",
    ")\n",
    "#tokenizer = AutoTokenizer.from_pretrained(\"canopylabs/3b-fr-pretrain-research_release\")"
   ]
  },
  {
   "cell_type": "code",
   "execution_count": 12,
   "id": "5cbf1855-f22c-4dbb-b688-f80dddeb045d",
   "metadata": {
    "scrolled": true
   },
   "outputs": [
    {
     "data": {
      "text/plain": [
       "LlamaForCausalLM(\n",
       "  (model): LlamaModel(\n",
       "    (embed_tokens): Embedding(156940, 3072)\n",
       "    (layers): ModuleList(\n",
       "      (0-27): 28 x LlamaDecoderLayer(\n",
       "        (self_attn): LlamaAttention(\n",
       "          (q_proj): Linear4bit(in_features=3072, out_features=3072, bias=False)\n",
       "          (k_proj): Linear4bit(in_features=3072, out_features=1024, bias=False)\n",
       "          (v_proj): Linear4bit(in_features=3072, out_features=1024, bias=False)\n",
       "          (o_proj): Linear4bit(in_features=3072, out_features=3072, bias=False)\n",
       "        )\n",
       "        (mlp): LlamaMLP(\n",
       "          (gate_proj): Linear4bit(in_features=3072, out_features=8192, bias=False)\n",
       "          (up_proj): Linear4bit(in_features=3072, out_features=8192, bias=False)\n",
       "          (down_proj): Linear4bit(in_features=8192, out_features=3072, bias=False)\n",
       "          (act_fn): SiLU()\n",
       "        )\n",
       "        (input_layernorm): LlamaRMSNorm((3072,), eps=1e-05)\n",
       "        (post_attention_layernorm): LlamaRMSNorm((3072,), eps=1e-05)\n",
       "      )\n",
       "    )\n",
       "    (norm): LlamaRMSNorm((3072,), eps=1e-05)\n",
       "    (rotary_emb): LlamaRotaryEmbedding()\n",
       "  )\n",
       "  (lm_head): Linear(in_features=3072, out_features=156940, bias=False)\n",
       ")"
      ]
     },
     "execution_count": 12,
     "metadata": {},
     "output_type": "execute_result"
    }
   ],
   "source": [
    "model"
   ]
  },
  {
   "cell_type": "code",
   "execution_count": 13,
   "id": "9a08e37c-0a90-48bf-ae9e-f5651f43b0b6",
   "metadata": {},
   "outputs": [
    {
     "data": {
      "text/plain": [
       "Parameter containing:\n",
       "tensor([0.5459, 0.5225, 0.5991,  ..., 0.5273, 0.5273, 0.4956], device='cuda:0',\n",
       "       dtype=torch.float16, requires_grad=True)"
      ]
     },
     "execution_count": 13,
     "metadata": {},
     "output_type": "execute_result"
    }
   ],
   "source": [
    "model.model.layers[-1].post_attention_layernorm.weight"
   ]
  },
  {
   "cell_type": "code",
   "execution_count": 14,
   "id": "aa4e273c-f4f8-48d8-b56b-58414abed38f",
   "metadata": {},
   "outputs": [],
   "source": [
    "model = prepare_model_for_kbit_training(model)\n",
    "lora_model = get_peft_model(model, config)"
   ]
  },
  {
   "cell_type": "code",
   "execution_count": 15,
   "id": "80ac3ec9-f6e1-48eb-a40b-10d26d550216",
   "metadata": {},
   "outputs": [
    {
     "name": "stdout",
     "output_type": "stream",
     "text": [
      "trainable params: 18,350,080 || all params: 3,319,217,152 || trainable%: 0.5528\n"
     ]
    }
   ],
   "source": [
    "lora_model.print_trainable_parameters()"
   ]
  },
  {
   "cell_type": "code",
   "execution_count": 16,
   "id": "a5449fa3-9725-448c-a0d0-d3cbe422d765",
   "metadata": {},
   "outputs": [],
   "source": [
    "pad_token = 128263"
   ]
  },
  {
   "cell_type": "code",
   "execution_count": 17,
   "id": "8abcecb6-1e65-44f4-b4aa-9639acdcf4e9",
   "metadata": {},
   "outputs": [],
   "source": [
    "def data_collator(features):\n",
    "    input_ids = [f[\"input_ids\"] for f in features]\n",
    "\n",
    "    if any(\"attention_mask\" not in f for f in features):\n",
    "        attention_mask = [[1]*len(ids) for ids in input_ids]\n",
    "    else:\n",
    "        attention_mask = [f[\"attention_mask\"] for f in features]\n",
    "\n",
    "    if any(\"labels\" not in f for f in features):\n",
    "        labels = input_ids\n",
    "    else:\n",
    "        labels = [f[\"labels\"] for f in features]\n",
    "\n",
    "    input_ids = torch.nn.utils.rnn.pad_sequence(\n",
    "        [torch.tensor(x, dtype=torch.long) for x in input_ids],\n",
    "        batch_first=True,\n",
    "        padding_value=pad_token\n",
    "    )\n",
    "    attention_mask = torch.nn.utils.rnn.pad_sequence(\n",
    "        [torch.tensor(m, dtype=torch.long) for m in attention_mask],\n",
    "        batch_first=True, padding_value=0\n",
    "    )\n",
    "    labels = torch.nn.utils.rnn.pad_sequence(\n",
    "        [torch.tensor(l, dtype=torch.long) for l in labels],\n",
    "        batch_first=True, padding_value=-100\n",
    "    )\n",
    "\n",
    "    return {\"input_ids\": input_ids, \"attention_mask\": attention_mask, \"labels\": labels}"
   ]
  },
  {
   "cell_type": "code",
   "execution_count": 18,
   "id": "1313b2ca-ba3f-49a7-9a48-555d37799bca",
   "metadata": {},
   "outputs": [],
   "source": [
    "data_train = load_from_disk(\"data/encoded/\")"
   ]
  },
  {
   "cell_type": "code",
   "execution_count": null,
   "id": "4f79ccd0-07fc-4f11-bbee-99c9f5803290",
   "metadata": {},
   "outputs": [],
   "source": []
  },
  {
   "cell_type": "code",
   "execution_count": null,
   "id": "46a4ec71-f6dd-45eb-bd0f-362222878eb8",
   "metadata": {},
   "outputs": [],
   "source": [
    "#lora_model = lora_model.compile()"
   ]
  },
  {
   "cell_type": "code",
   "execution_count": 19,
   "id": "e0554c59-008b-4dd0-93fd-40b78c2e52f6",
   "metadata": {},
   "outputs": [],
   "source": [
    "batch_size = 8\n",
    "\n",
    "args = TrainingArguments(\n",
    "    per_device_train_batch_size=batch_size,\n",
    "    gradient_accumulation_steps=4,\n",
    "    #per_device_eval_batch_size=batch_size,\n",
    "    bf16=True,\n",
    "    num_train_epochs=3,\n",
    "    logging_steps=10,\n",
    "    save_strategy=\"steps\",\n",
    "    save_steps=500,\n",
    "    save_total_limit=5,\n",
    "    #eval_strategy=\"epoch\",\n",
    "    #load_best_model_at_end=True,\n",
    "    label_names=[\"labels\"],\n",
    "    remove_unused_columns=True,\n",
    ")"
   ]
  },
  {
   "cell_type": "code",
   "execution_count": 20,
   "id": "a51bd042-45db-4e40-8a11-7341d4545495",
   "metadata": {},
   "outputs": [],
   "source": [
    "optimizer = create_loraplus_optimizer(\n",
    "    model=lora_model,\n",
    "    optimizer_cls=bnb.optim.Adam8bit,\n",
    "    lr=5e-5,\n",
    "    loraplus_lr_ratio=16,\n",
    ")\n",
    "scheduler = None"
   ]
  },
  {
   "cell_type": "code",
   "execution_count": 21,
   "id": "30d1c62d-47d7-4c2f-a0ef-54f3993d7f2a",
   "metadata": {},
   "outputs": [],
   "source": [
    "trainer = Trainer(\n",
    "    lora_model,\n",
    "    args,\n",
    "    optimizers=(optimizer, scheduler),\n",
    "    train_dataset=data_train,\n",
    "    #eval_dataset=val_ds,\n",
    "    #tokenizer=tokenizer,\n",
    "    data_collator=data_collator,\n",
    ")"
   ]
  },
  {
   "cell_type": "code",
   "execution_count": 22,
   "id": "aaa88eed-79a5-4959-aabf-846826677aa3",
   "metadata": {},
   "outputs": [
    {
     "name": "stderr",
     "output_type": "stream",
     "text": [
      "/home/adrien/.pyenv/versions/3.12.7/envs/ml312/lib/python3.12/site-packages/torch/_dynamo/eval_frame.py:745: UserWarning: torch.utils.checkpoint: the use_reentrant parameter should be passed explicitly. In version 2.5 we will raise an exception if use_reentrant is not passed. use_reentrant=False is recommended, but if you need to preserve the current default behavior, you can pass use_reentrant=True. Refer to docs for more details on the differences between the two variants.\n",
      "  return fn(*args, **kwargs)\n"
     ]
    },
    {
     "data": {
      "text/html": [
       "\n",
       "    <div>\n",
       "      \n",
       "      <progress value='111' max='111' style='width:300px; height:20px; vertical-align: middle;'></progress>\n",
       "      [111/111 51:19, Epoch 2/3]\n",
       "    </div>\n",
       "    <table border=\"1\" class=\"dataframe\">\n",
       "  <thead>\n",
       " <tr style=\"text-align: left;\">\n",
       "      <th>Step</th>\n",
       "      <th>Training Loss</th>\n",
       "    </tr>\n",
       "  </thead>\n",
       "  <tbody>\n",
       "    <tr>\n",
       "      <td>10</td>\n",
       "      <td>4.841900</td>\n",
       "    </tr>\n",
       "    <tr>\n",
       "      <td>20</td>\n",
       "      <td>4.695700</td>\n",
       "    </tr>\n",
       "    <tr>\n",
       "      <td>30</td>\n",
       "      <td>4.619300</td>\n",
       "    </tr>\n",
       "    <tr>\n",
       "      <td>40</td>\n",
       "      <td>4.598700</td>\n",
       "    </tr>\n",
       "    <tr>\n",
       "      <td>50</td>\n",
       "      <td>4.533600</td>\n",
       "    </tr>\n",
       "    <tr>\n",
       "      <td>60</td>\n",
       "      <td>4.523600</td>\n",
       "    </tr>\n",
       "    <tr>\n",
       "      <td>70</td>\n",
       "      <td>4.519800</td>\n",
       "    </tr>\n",
       "    <tr>\n",
       "      <td>80</td>\n",
       "      <td>4.501900</td>\n",
       "    </tr>\n",
       "    <tr>\n",
       "      <td>90</td>\n",
       "      <td>4.494800</td>\n",
       "    </tr>\n",
       "    <tr>\n",
       "      <td>100</td>\n",
       "      <td>4.460800</td>\n",
       "    </tr>\n",
       "    <tr>\n",
       "      <td>110</td>\n",
       "      <td>4.473100</td>\n",
       "    </tr>\n",
       "  </tbody>\n",
       "</table><p>"
      ],
      "text/plain": [
       "<IPython.core.display.HTML object>"
      ]
     },
     "metadata": {},
     "output_type": "display_data"
    },
    {
     "data": {
      "text/plain": [
       "TrainOutput(global_step=111, training_loss=4.5686386726998, metrics={'train_runtime': 3093.7677, 'train_samples_per_second': 1.159, 'train_steps_per_second': 0.036, 'total_flos': 4.621749237723341e+16, 'train_loss': 4.5686386726998, 'epoch': 2.9333333333333336})"
      ]
     },
     "execution_count": 22,
     "metadata": {},
     "output_type": "execute_result"
    }
   ],
   "source": [
    "trainer.train()"
   ]
  },
  {
   "cell_type": "code",
   "execution_count": 24,
   "id": "590cacb4-456d-433a-b975-0a910fc3945d",
   "metadata": {},
   "outputs": [
    {
     "name": "stderr",
     "output_type": "stream",
     "text": [
      "/home/adrien/.pyenv/versions/3.12.7/envs/ml312/lib/python3.12/site-packages/peft/tuners/lora/bnb.py:351: UserWarning: Merge lora module to 4-bit linear may get different generations due to rounding errors.\n",
      "  warnings.warn(\n"
     ]
    }
   ],
   "source": [
    "merged_model = lora_model.merge_and_unload()"
   ]
  },
  {
   "cell_type": "code",
   "execution_count": 25,
   "id": "862170d4-55bc-4981-a724-8b7c316d2e2d",
   "metadata": {},
   "outputs": [],
   "source": [
    "merged_model.save_pretrained(\"ft_merged_model\")"
   ]
  }
 ],
 "metadata": {
  "kernelspec": {
   "display_name": "Python 3 (ipykernel)",
   "language": "python",
   "name": "python3"
  },
  "language_info": {
   "codemirror_mode": {
    "name": "ipython",
    "version": 3
   },
   "file_extension": ".py",
   "mimetype": "text/x-python",
   "name": "python",
   "nbconvert_exporter": "python",
   "pygments_lexer": "ipython3",
   "version": "3.12.7"
  }
 },
 "nbformat": 4,
 "nbformat_minor": 5
}
